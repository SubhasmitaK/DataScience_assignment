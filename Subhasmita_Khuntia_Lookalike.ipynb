{
 "cells": [
  {
   "cell_type": "code",
   "execution_count": 4,
   "id": "7003c962-8be6-4d25-a569-24771d1101e0",
   "metadata": {},
   "outputs": [],
   "source": [
    "import pandas as pd\n",
    "import numpy as np\n",
    "from sklearn.preprocessing import StandardScaler\n",
    "from sklearn.metrics.pairwise import cosine_similarity"
   ]
  },
  {
   "cell_type": "code",
   "execution_count": 7,
   "id": "019052c1-8ab3-4f3e-a101-e75b8611fdb1",
   "metadata": {},
   "outputs": [],
   "source": [
    "customers = pd.read_csv(\"Customers.csv\")\n",
    "products = pd.read_csv(\"Products.csv\")\n",
    "transactions = pd.read_csv(\"Transactions.csv\")\n",
    "df = transactions.merge(customers, on=\"CustomerID\", how=\"left\")\n",
    "df = df.merge(products, on=\"ProductID\", how=\"left\")\n",
    "df = df.rename(columns={\"Price_x\": \"Price\", \"Price_y\": \"ProductPrice\"})"
   ]
  },
  {
   "cell_type": "code",
   "execution_count": 8,
   "id": "cb3ee5d1-0a01-4e6c-836a-d02cf27cfffa",
   "metadata": {},
   "outputs": [],
   "source": [
    "cust_profiles = df.groupby('CustomerID').agg({\n",
    "    'TotalValue': 'sum',\n",
    "    'Quantity': 'sum',\n",
    "    'Price': 'mean',\n",
    "    'Region': 'first',\n",
    "    'Category': lambda x: x.mode()[0] if not x.mode().empty else 'Unknown'\n",
    "}).reset_index()\n",
    "\n",
    "cust_profiles = pd.get_dummies(cust_profiles, columns=['Region', 'Category'])"
   ]
  },
  {
   "cell_type": "code",
   "execution_count": 9,
   "id": "0a181d13-bd05-439f-b2de-5d0eef942c21",
   "metadata": {},
   "outputs": [],
   "source": [
    "features = cust_profiles.drop(['CustomerID'], axis=1)\n",
    "scaler = StandardScaler()\n",
    "features_scaled = scaler.fit_transform(features)"
   ]
  },
  {
   "cell_type": "code",
   "execution_count": 10,
   "id": "578b7870-0fef-455c-b305-d42c7244391b",
   "metadata": {},
   "outputs": [],
   "source": [
    "similarity_matrix = cosine_similarity(features_scaled)\n"
   ]
  },
  {
   "cell_type": "code",
   "execution_count": 11,
   "id": "369ca7e7-26ba-4d4f-801e-6cd630cf5676",
   "metadata": {},
   "outputs": [],
   "source": [
    "lookalikes = {}\n",
    "for i, cust_id in enumerate(cust_profiles['CustomerID']):\n",
    "    if cust_id.startswith(\"C00\") and int(cust_id[1:]) <= 20:\n",
    "        sims = list(enumerate(similarity_matrix[i]))\n",
    "        sims = sorted(sims, key=lambda x: x[1], reverse=True)\n",
    "        top3 = [(cust_profiles.loc[j, 'CustomerID'], round(score, 4)) for j, score in sims[1:4]]\n",
    "        lookalikes[cust_id] = top3\n"
   ]
  },
  {
   "cell_type": "code",
   "execution_count": 12,
   "id": "ea842f60-3f0e-4d90-ac40-5e765683ba97",
   "metadata": {},
   "outputs": [],
   "source": [
    "lookalike_df = pd.DataFrame([\n",
    "    {\"CustomerID\": k, \"Lookalikes\": v} for k, v in lookalikes.items()\n",
    "])\n",
    "lookalike_df.to_csv(\"Subhasmita_Khuntia_Lookalike.csv\", index=False)"
   ]
  },
  {
   "cell_type": "code",
   "execution_count": null,
   "id": "fb6fd438-13c0-471b-98b9-00e1af23f0ee",
   "metadata": {},
   "outputs": [],
   "source": []
  }
 ],
 "metadata": {
  "kernelspec": {
   "display_name": "Python 3 (ipykernel)",
   "language": "python",
   "name": "python3"
  },
  "language_info": {
   "codemirror_mode": {
    "name": "ipython",
    "version": 3
   },
   "file_extension": ".py",
   "mimetype": "text/x-python",
   "name": "python",
   "nbconvert_exporter": "python",
   "pygments_lexer": "ipython3",
   "version": "3.12.7"
  }
 },
 "nbformat": 4,
 "nbformat_minor": 5
}
